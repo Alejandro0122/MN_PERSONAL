{
 "cells": [
  {
   "cell_type": "markdown",
   "id": "71ab2651",
   "metadata": {},
   "source": [
    "### Escuela Politécnica Nacional ###\n",
    "\n",
    "**Nombre:** Marco Marcillo\n",
    "\n",
    "**Tema:** [Actividad extracurricular 2b] Módulo logging\n",
    "\n",
    "**Repositorio GIT:** https://github.com/Alejandro0122/MN_PERSONAL"
   ]
  },
  {
   "cell_type": "markdown",
   "id": "cd7964d7",
   "metadata": {},
   "source": [
    "Objetivo \n",
    "\n",
    "Conocer y utilizar el módulo de logging en Python. "
   ]
  },
  {
   "cell_type": "code",
   "execution_count": 5,
   "id": "8d0fae5b",
   "metadata": {},
   "outputs": [
    {
     "name": "stdout",
     "output_type": "stream",
     "text": [
      "\u001b[94m2025-07-16 21:27:26 | DEBUG | 1192157945.py | mensaje debug\u001b[0m\n"
     ]
    },
    {
     "name": "stdout",
     "output_type": "stream",
     "text": [
      "\u001b[92m2025-07-16 21:27:26 | INFO | 1192157945.py | mensaje info\u001b[0m\n",
      "\u001b[93m2025-07-16 21:27:27 | WARNING | 1192157945.py | mensaje advertencia\u001b[0m\n",
      "\u001b[91m2025-07-16 21:27:28 | ERROR | 1192157945.py | mensaje error\u001b[0m\n",
      "\u001b[95m2025-07-16 21:27:28 | CRITICAL | 1192157945.py | mensaje crítico\u001b[0m\n"
     ]
    }
   ],
   "source": [
    "import logging\n",
    "import requests\n",
    "from datetime import datetime\n",
    "import sys\n",
    "\n",
    "TOKEN = \"TU_TOKEN\"\n",
    "CHAT_ID = \"TU_CHAT_ID\"\n",
    "\n",
    "class ColorFormatter(logging.Formatter):\n",
    "    colores = {\n",
    "        logging.DEBUG: \"\\033[94m\",\n",
    "        logging.INFO: \"\\033[92m\",\n",
    "        logging.WARNING: \"\\033[93m\",\n",
    "        logging.ERROR: \"\\033[91m\",\n",
    "        logging.CRITICAL: \"\\033[95m\",\n",
    "    }\n",
    "    reset = \"\\033[0m\"\n",
    "    def format(self, record):\n",
    "        color = self.colores.get(record.levelno, self.reset)\n",
    "        formato = f\"%(asctime)s | %(levelname)s | %(filename)s | %(message)s\"\n",
    "        return f\"{color}{super().format(record)}{self.reset}\"\n",
    "\n",
    "def enviar_telegram(mensaje):\n",
    "    url = f\"https://api.telegram.org/bot{TOKEN}/sendMessage\"\n",
    "    data = {\"chat_id\": CHAT_ID, \"text\": mensaje}\n",
    "    requests.post(url, data=data)\n",
    "\n",
    "logger = logging.getLogger(\"ejemplo\")\n",
    "logger.setLevel(logging.DEBUG)\n",
    "\n",
    "formato = ColorFormatter(\"%(asctime)s | %(levelname)s | %(filename)s | %(message)s\", \"%Y-%m-%d %H:%M:%S\")\n",
    "\n",
    "consola = logging.StreamHandler(sys.stdout)\n",
    "consola.setFormatter(formato)\n",
    "logger.addHandler(consola)\n",
    "\n",
    "archivo = logging.FileHandler(\"registro.log\", encoding=\"utf-8\")\n",
    "archivo.setFormatter(formato)\n",
    "logger.addHandler(archivo)\n",
    "\n",
    "class TelegramHandler(logging.Handler):\n",
    "    def emit(self, record):\n",
    "        enviar_telegram(self.format(record))\n",
    "\n",
    "telegram = TelegramHandler()\n",
    "telegram.setFormatter(logging.Formatter(\"%(asctime)s | %(levelname)s | %(filename)s | %(message)s\"))\n",
    "logger.addHandler(telegram)\n",
    "\n",
    "logger.debug(\"mensaje debug\")\n",
    "logger.info(\"mensaje info\")\n",
    "logger.warning(\"mensaje advertencia\")\n",
    "logger.error(\"mensaje error\")\n",
    "logger.critical(\"mensaje crítico\")\n"
   ]
  },
  {
   "cell_type": "code",
   "execution_count": null,
   "id": "8548a8e4",
   "metadata": {},
   "outputs": [],
   "source": []
  }
 ],
 "metadata": {
  "kernelspec": {
   "display_name": "Python 3",
   "language": "python",
   "name": "python3"
  },
  "language_info": {
   "codemirror_mode": {
    "name": "ipython",
    "version": 3
   },
   "file_extension": ".py",
   "mimetype": "text/x-python",
   "name": "python",
   "nbconvert_exporter": "python",
   "pygments_lexer": "ipython3",
   "version": "3.11.0"
  }
 },
 "nbformat": 4,
 "nbformat_minor": 5
}
