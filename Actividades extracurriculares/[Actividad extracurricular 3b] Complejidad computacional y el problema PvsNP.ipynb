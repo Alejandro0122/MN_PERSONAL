{
 "cells": [
  {
   "cell_type": "markdown",
   "id": "6b1ab20e",
   "metadata": {},
   "source": [
    "### Escuela Politécnica Nacional ###\n",
    "\n",
    "**Nombre:** Marco Marcillo\n",
    "\n",
    "**Tema:** [Actividad extracurricular 3b] Complejidad computacional y el problema PvsNP\n",
    "\n",
    "**Repositorio GIT:** https://github.com/Alejandro0122/MN_PERSONAL"
   ]
  },
  {
   "cell_type": "markdown",
   "id": "249333cc",
   "metadata": {},
   "source": [
    "#### Objetivo \n",
    "\n",
    "* Conocer y entender sobre la complejidad computacional. \n",
    "\n",
    "* Familiarizarse con el problema de P vs NP. "
   ]
  },
  {
   "cell_type": "markdown",
   "id": "d1ca252a",
   "metadata": {},
   "source": [
    "### Indicaciones\n",
    "\n",
    "<span style=\"color: RED\">\n",
    "\n",
    "\n",
    "a) Investigue sobre la notación big *O*. Esta medida es ¿para el peor escenario, mejor escenario, o el promedio? "
   ]
  },
  {
   "cell_type": "markdown",
   "id": "829b4555",
   "metadata": {},
   "source": [
    "Para comenzar la notacion Big *O* se utiliza para describir el limite superior asintotico del crecimiento de una funcion, por ende a esto se lo tomaria como una medicion del peor escenario que puede presentar una funcion o un algoritmo."
   ]
  },
  {
   "cell_type": "markdown",
   "id": "04ad5ece",
   "metadata": {},
   "source": [
    "<span style=\"color: RED\">\n",
    "\n",
    "b) ¿Cuál es la diferencia con little o, y las otras funciones big Omega Ω, big Theta Θ?"
   ]
  },
  {
   "cell_type": "markdown",
   "id": "b78d4d3d",
   "metadata": {},
   "source": [
    "* Little o\n",
    "\n",
    "En resuemen comparandolo con Big *O* f(n) = O(g(n)), este crece a lo sumo tan rapido como g(n), es decir, que f(n) es *O* de g(n).\n",
    "\n",
    "Mientras que el Little o, f(n)=o(g(n)), es que f(n) es *O* de g(n) pero no *O* de g(n).Este crece **ESTRICTAMENTE MAS LENTO** que g(n).\n",
    "\n",
    "* Big Omega Ω\n",
    "\n",
    "Esta notacion es la inversa de la notacion Big *O*, describe el limite inferior de la funcion f(n) respecto a g(n).\n",
    "\n",
    "Esto **garantiza el limite al minimo de la funcion** f(n) respecto a g(n).\n",
    "\n",
    "* Big Theta Θ\n",
    "\n",
    "Es una notacion de un limite ajustado, si un algoritmo es Θ(f(n)), significa que su tiempo de ejecución crece al mismo ritmo que f(n).\n",
    " \n",
    "Esta notación se usa cuando **los límites superior e inferior son iguales**, es decir, el mejor y el peor escenario tienen la misma complejidad."
   ]
  },
  {
   "cell_type": "markdown",
   "id": "ad107bba",
   "metadata": {},
   "source": [
    "<span style=\"color: RED\">\n",
    "\n",
    "c) Investigue sobre el problema P vs NP, describa ejemplos de algoritmos en cada caso."
   ]
  },
  {
   "cell_type": "markdown",
   "id": "c0ff3cef",
   "metadata": {},
   "source": [
    "Se centra en la eficiencia computacional de resolver problemas versus verificarlos.\n",
    "\n",
    "Se sabe que: \n",
    "\n",
    "P: Representa los problemas resolubles eficientemente (ordenamiento, búsqueda).\n",
    "\n",
    "NP: Representa los problemas verificables eficientemente, pero no necesariamente resolubles\n",
    "\n",
    "Conociendo eso el problema P vs NP, se enfoca en la pregunta de si todos los problemas verificacbles pueden resolverse eficientemente.\n",
    "\n",
    "#### Ejemplos\n",
    "\n",
    "##### Ejemplo 1 [P]\n",
    "\n",
    "Búsqueda en un árbol binario balanceado\n",
    "\n",
    "Algoritmo: Búsqueda binaria.\n",
    "\n",
    "Complejidad: O(log n).\n",
    "\n",
    "Este algoritmo es eficiente para resolver problemas de búsqueda en un árbol binario balanceado, pero no es eficiente para resolver problemas de ordenamiento.\n",
    "\n",
    "##### Ejemplo 2 [P]\n",
    "\n",
    "Camino más corto en un grafo (sin pesos negativos)\n",
    "\n",
    "Algoritmo: Dijkstra.\n",
    "\n",
    "Complejidad: O((V+E)logV).\n",
    "\n",
    "Este algoritmo es eficiente para resolver problemas de búsqueda en un grafo, donde los pesos de las aristas son positivos y el tiempo de ejecución es proporcional al número de vértices y aristas del grafo.\n",
    "\n",
    "##### Ejemplo 3 [NP]\n",
    "\n",
    "Problema de la mochila (Knapsack Problem)\n",
    "\n",
    "Descripción: Dados objetos con pesos y valores, ¿se puede llenar una mochila con valor total ≥V sin exceder el peso máximo?\n",
    "\n",
    "Verificación: Si alguien te da un subconjunto de objetos, puedes sumar su valor en O(n).\n",
    "\n",
    "No se conoce un algoritmo polinómico determinista.\n",
    "\n",
    "##### Ejemplo 4 [NP]\n",
    "\n",
    "Problema del clique (Clique Problem)\n",
    "\n",
    "Descripción: Dado un grafo, ¿existe un subgrafo completo (todos conectados entre sí) de tamaño k?\n",
    "\n",
    "Verificación: Si alguien te da un conjunto de k nodos, puedes comprobar en O(k2) si todos están conectados.\n",
    "\n",
    "No se conoce un algoritmo polinómico determinista"
   ]
  },
  {
   "cell_type": "markdown",
   "id": "5e718597",
   "metadata": {},
   "source": []
  }
 ],
 "metadata": {
  "language_info": {
   "name": "python"
  }
 },
 "nbformat": 4,
 "nbformat_minor": 5
}
